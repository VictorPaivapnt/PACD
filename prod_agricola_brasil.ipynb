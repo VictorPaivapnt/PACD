{
 "cells": [
  {
   "cell_type": "code",
   "execution_count": 12,
   "id": "31cd4041",
   "metadata": {},
   "outputs": [],
   "source": [
    "import pandas as pd\n"
   ]
  },
  {
   "cell_type": "code",
   "execution_count": 13,
   "id": "3b40af95",
   "metadata": {},
   "outputs": [
    {
     "data": {
      "text/html": [
       "<div>\n",
       "<style scoped>\n",
       "    .dataframe tbody tr th:only-of-type {\n",
       "        vertical-align: middle;\n",
       "    }\n",
       "\n",
       "    .dataframe tbody tr th {\n",
       "        vertical-align: top;\n",
       "    }\n",
       "\n",
       "    .dataframe thead th {\n",
       "        text-align: right;\n",
       "    }\n",
       "</style>\n",
       "<table border=\"1\" class=\"dataframe\">\n",
       "  <thead>\n",
       "    <tr style=\"text-align: right;\">\n",
       "      <th></th>\n",
       "      <th>Grande Região e Unidade da Federação</th>\n",
       "      <th>Ano</th>\n",
       "      <th>Variável</th>\n",
       "      <th>Produto das lavouras temporárias e permanentes</th>\n",
       "      <th>Valor</th>\n",
       "    </tr>\n",
       "  </thead>\n",
       "  <tbody>\n",
       "    <tr>\n",
       "      <th>0</th>\n",
       "      <td>Norte</td>\n",
       "      <td>2015</td>\n",
       "      <td>Área plantada ou destinada à colheita (Hectares)</td>\n",
       "      <td>Total</td>\n",
       "      <td>3627845</td>\n",
       "    </tr>\n",
       "    <tr>\n",
       "      <th>1</th>\n",
       "      <td>Norte</td>\n",
       "      <td>2015</td>\n",
       "      <td>Área plantada ou destinada à colheita (Hectares)</td>\n",
       "      <td>Abacate</td>\n",
       "      <td>458</td>\n",
       "    </tr>\n",
       "    <tr>\n",
       "      <th>2</th>\n",
       "      <td>Norte</td>\n",
       "      <td>2015</td>\n",
       "      <td>Área plantada ou destinada à colheita (Hectares)</td>\n",
       "      <td>Abacaxi*</td>\n",
       "      <td>21402</td>\n",
       "    </tr>\n",
       "    <tr>\n",
       "      <th>3</th>\n",
       "      <td>Norte</td>\n",
       "      <td>2015</td>\n",
       "      <td>Área plantada ou destinada à colheita (Hectares)</td>\n",
       "      <td>Açaí</td>\n",
       "      <td>136312</td>\n",
       "    </tr>\n",
       "    <tr>\n",
       "      <th>4</th>\n",
       "      <td>Norte</td>\n",
       "      <td>2015</td>\n",
       "      <td>Área plantada ou destinada à colheita (Hectares)</td>\n",
       "      <td>Alfafa fenada</td>\n",
       "      <td>...</td>\n",
       "    </tr>\n",
       "  </tbody>\n",
       "</table>\n",
       "</div>"
      ],
      "text/plain": [
       "  Grande Região e Unidade da Federação   Ano  \\\n",
       "0                                Norte  2015   \n",
       "1                                Norte  2015   \n",
       "2                                Norte  2015   \n",
       "3                                Norte  2015   \n",
       "4                                Norte  2015   \n",
       "\n",
       "                                           Variável  \\\n",
       "0  Área plantada ou destinada à colheita (Hectares)   \n",
       "1  Área plantada ou destinada à colheita (Hectares)   \n",
       "2  Área plantada ou destinada à colheita (Hectares)   \n",
       "3  Área plantada ou destinada à colheita (Hectares)   \n",
       "4  Área plantada ou destinada à colheita (Hectares)   \n",
       "\n",
       "  Produto das lavouras temporárias e permanentes    Valor  \n",
       "0                                          Total  3627845  \n",
       "1                                        Abacate      458  \n",
       "2                                       Abacaxi*    21402  \n",
       "3                                           Açaí   136312  \n",
       "4                                  Alfafa fenada      ...  "
      ]
     },
     "metadata": {},
     "output_type": "display_data"
    }
   ],
   "source": [
    "prod_agricola = pd.read_csv('prod_agricola.csv', sep=';', on_bad_lines='skip')\n",
    "display(prod_agricola.head())"
   ]
  },
  {
   "cell_type": "code",
   "execution_count": 14,
   "id": "76bef60f",
   "metadata": {},
   "outputs": [],
   "source": [
    "prod_agricola = prod_agricola.rename(columns={\n",
    "    'Grande Região e Unidade da Federação': 'Regiao_UF',\n",
    "    'Ano': 'Ano',\n",
    "    'Variável': 'Variavel',\n",
    "    'Produto das lavouras temporárias e permanentes': 'Produto',\n",
    "    'Valor': 'Valor'\n",
    "})"
   ]
  },
  {
   "cell_type": "code",
   "execution_count": 23,
   "id": "ec009927",
   "metadata": {},
   "outputs": [
    {
     "data": {
      "text/plain": [
       "array(['3627845', '458', '21402', ..., '6474', '72800', '35,73'],\n",
       "      shape=(29977,), dtype=object)"
      ]
     },
     "execution_count": 23,
     "metadata": {},
     "output_type": "execute_result"
    }
   ],
   "source": [
    "prod_agricola['Valor'].unique()"
   ]
  },
  {
   "cell_type": "code",
   "execution_count": 24,
   "id": "3c10b42e",
   "metadata": {},
   "outputs": [
    {
     "data": {
      "text/plain": [
       "Regiao_UF          \n",
       "Acre                   5184\n",
       "Alagoas                5184\n",
       "Amapá                  5184\n",
       "Amazonas               5184\n",
       "Bahia                  5184\n",
       "Ceará                  5184\n",
       "Centro-Oeste           5184\n",
       "Distrito Federal       5184\n",
       "Espírito Santo         5184\n",
       "Goiás                  5184\n",
       "Guanabara              5184\n",
       "Maranhão               5184\n",
       "Mato Grosso            5184\n",
       "Mato Grosso do Sul     5184\n",
       "Minas Gerais           5184\n",
       "Nordeste               5184\n",
       "Norte                  5184\n",
       "Paraná                 5184\n",
       "Paraíba                5184\n",
       "Pará                   5184\n",
       "Pernambuco             5184\n",
       "Piauí                  5184\n",
       "Rio Grande do Norte    5184\n",
       "Rio Grande do Sul      5184\n",
       "Rio de Janeiro         5184\n",
       "Rondônia               5184\n",
       "Roraima                5184\n",
       "Santa Catarina         5184\n",
       "Sergipe                5184\n",
       "Sudeste                5184\n",
       "Sul                    5184\n",
       "São Paulo              5184\n",
       "Tocantins              5184\n",
       "Name: count, dtype: int64"
      ]
     },
     "execution_count": 24,
     "metadata": {},
     "output_type": "execute_result"
    }
   ],
   "source": [
    "prod_agricola.value_counts(['Regiao_UF'])"
   ]
  },
  {
   "cell_type": "code",
   "execution_count": 28,
   "id": "eceff8b9",
   "metadata": {},
   "outputs": [
    {
     "name": "stdout",
     "output_type": "stream",
     "text": [
      "<class 'pandas.core.frame.DataFrame'>\n",
      "RangeIndex: 171072 entries, 0 to 171071\n",
      "Data columns (total 5 columns):\n",
      " #   Column     Non-Null Count   Dtype \n",
      "---  ------     --------------   ----- \n",
      " 0   Regiao_UF  171072 non-null  object\n",
      " 1   Ano        171072 non-null  int64 \n",
      " 2   Variavel   171072 non-null  object\n",
      " 3   Produto    171072 non-null  object\n",
      " 4   Valor      171072 non-null  object\n",
      "dtypes: int64(1), object(4)\n",
      "memory usage: 6.5+ MB\n"
     ]
    }
   ],
   "source": [
    "prod_agricola.info()"
   ]
  },
  {
   "cell_type": "code",
   "execution_count": 29,
   "id": "2a19bfc3",
   "metadata": {},
   "outputs": [
    {
     "data": {
      "text/plain": [
       "Regiao_UF          \n",
       "Acre                   5184\n",
       "Alagoas                5184\n",
       "Amapá                  5184\n",
       "Amazonas               5184\n",
       "Bahia                  5184\n",
       "Ceará                  5184\n",
       "Centro-Oeste           5184\n",
       "Distrito Federal       5184\n",
       "Espírito Santo         5184\n",
       "Goiás                  5184\n",
       "Guanabara              5184\n",
       "Maranhão               5184\n",
       "Mato Grosso            5184\n",
       "Mato Grosso do Sul     5184\n",
       "Minas Gerais           5184\n",
       "Nordeste               5184\n",
       "Norte                  5184\n",
       "Paraná                 5184\n",
       "Paraíba                5184\n",
       "Pará                   5184\n",
       "Pernambuco             5184\n",
       "Piauí                  5184\n",
       "Rio Grande do Norte    5184\n",
       "Rio Grande do Sul      5184\n",
       "Rio de Janeiro         5184\n",
       "Rondônia               5184\n",
       "Roraima                5184\n",
       "Santa Catarina         5184\n",
       "Sergipe                5184\n",
       "Sudeste                5184\n",
       "Sul                    5184\n",
       "São Paulo              5184\n",
       "Tocantins              5184\n",
       "Name: count, dtype: int64"
      ]
     },
     "execution_count": 29,
     "metadata": {},
     "output_type": "execute_result"
    }
   ],
   "source": [
    "prod_agricola.value_counts(['Regiao_UF'])"
   ]
  },
  {
   "cell_type": "code",
   "execution_count": 30,
   "id": "c062a59c",
   "metadata": {},
   "outputs": [
    {
     "data": {
      "text/plain": [
       "array(['Norte', 'Nordeste', 'Sudeste', 'Sul', 'Centro-Oeste', 'Rondônia',\n",
       "       'Acre', 'Amazonas', 'Roraima', 'Pará', 'Amapá', 'Tocantins',\n",
       "       'Maranhão', 'Piauí', 'Ceará', 'Rio Grande do Norte', 'Paraíba',\n",
       "       'Pernambuco', 'Alagoas', 'Sergipe', 'Bahia', 'Minas Gerais',\n",
       "       'Espírito Santo', 'Rio de Janeiro', 'Guanabara', 'São Paulo',\n",
       "       'Paraná', 'Santa Catarina', 'Rio Grande do Sul',\n",
       "       'Mato Grosso do Sul', 'Mato Grosso', 'Goiás', 'Distrito Federal'],\n",
       "      dtype=object)"
      ]
     },
     "execution_count": 30,
     "metadata": {},
     "output_type": "execute_result"
    }
   ],
   "source": [
    "prod_agricola['Regiao_UF'].unique()"
   ]
  },
  {
   "cell_type": "code",
   "execution_count": 31,
   "id": "0575ec1e",
   "metadata": {},
   "outputs": [
    {
     "name": "stdout",
     "output_type": "stream",
     "text": [
      "Regiao_UF    0\n",
      "Ano          0\n",
      "Variavel     0\n",
      "Produto      0\n",
      "Valor        0\n",
      "dtype: int64\n"
     ]
    }
   ],
   "source": [
    "print(prod_agricola.isnull().sum())"
   ]
  },
  {
   "cell_type": "code",
   "execution_count": 32,
   "id": "56ad919c",
   "metadata": {},
   "outputs": [
    {
     "data": {
      "text/plain": [
       "array(['3627845', '458', '21402', ..., '6474', '72800', '35,73'],\n",
       "      shape=(29977,), dtype=object)"
      ]
     },
     "execution_count": 32,
     "metadata": {},
     "output_type": "execute_result"
    }
   ],
   "source": [
    "prod_agricola['Valor'].unique()"
   ]
  },
  {
   "cell_type": "code",
   "execution_count": null,
   "id": "be976017",
   "metadata": {},
   "outputs": [],
   "source": []
  }
 ],
 "metadata": {
  "kernelspec": {
   "display_name": "Python 3",
   "language": "python",
   "name": "python3"
  },
  "language_info": {
   "codemirror_mode": {
    "name": "ipython",
    "version": 3
   },
   "file_extension": ".py",
   "mimetype": "text/x-python",
   "name": "python",
   "nbconvert_exporter": "python",
   "pygments_lexer": "ipython3",
   "version": "3.12.5"
  }
 },
 "nbformat": 4,
 "nbformat_minor": 5
}
